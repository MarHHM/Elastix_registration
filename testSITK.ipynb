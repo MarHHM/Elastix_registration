{
 "cells": [
  {
   "cell_type": "code",
   "execution_count": 1,
   "outputs": [],
   "source": [
    "import sys\n",
    "import os\n",
    "from pathlib import Path  # makes dealing with paths in Wnidows easier - but takes only linux-style slashes\n",
    "import numpy as np\n",
    "import nibabel as nib\n",
    "import matplotlib.pyplot as plt\n",
    "import SimpleITK as sitk  # see doc at     https://itk.org/SimpleITKDoxygen/html/namespaceitk_1_1simple.html\n",
    "import callElastix\n",
    "import callTransformix"
   ],
   "metadata": {
    "collapsed": false,
    "pycharm": {
     "name": "#%%\n",
     "is_executing": false
    }
   }
  },
  {
   "cell_type": "code",
   "execution_count": 8,
   "outputs": [],
   "source": [
    "\n",
    "os.chdir(Path('S:/MR_datasets_local/Sub_3-2018-09-11/'))  # 'S:/MR_datasets_local/Sub_3-2018-09-11/'        # \"S:/MR_datasets_local/Sub_7-2019-07-05/\"        # \"C:/Users/bzfmuham/OneDrive/Knee-Kinematics/elastix 4.9.0/elastix-4.9.0-example_2/exampleinput/\"\n",
    "\n",
    "I_f_name = 'R1_t1-minus-t2.nii'\n",
    "I_m_name = 'R3_t1-minus-t2.nii'\n",
    "I_f_mask_name = 'R1_wholeLegMask.labels.nii'\n",
    "I_m_rigidityCoeffIm_name = 'R3_boneMask.labels.binary.nii'\n",
    "\n",
    "# check if the \"image-to-world\" affine tranforms are the same for all involved volumes & masks\n",
    "if np.array_equiv(nib.load(I_f_name).affine, nib.load(I_m_name).affine) is False \\\n",
    "or np.array_equiv(nib.load(I_f_name).affine, nib.load(I_f_mask_name).affine) is False \\\n",
    "or np.array_equiv(nib.load(I_f_name).affine, nib.load(I_m_rigidityCoeffIm_name).affine) is False :\n",
    "    print('ERROR: \"voxel-to-world\" affine tranforms are not the same for all involved volumes & masks!')\n",
    "    exit(-1)"
   ],
   "metadata": {
    "collapsed": false,
    "pycharm": {
     "name": "#%%\n",
     "is_executing": false
    }
   }
  },
  {
   "cell_type": "code",
   "execution_count": null,
   "outputs": [],
   "source": [
    "callElastix.callElastix(I_f_name = I_f_name,                # flexed, '72_Echo1.nii' 'R1_t1-minus-t2.nii' 'DataMergeR4_echo1.nii'\n",
    "            I_m_name = I_m_name,                # extended, '70_Echo1.nii' 'R3_t1-minus-t2.nii' 'DataMergeR3_echo1.nii'\n",
    "            I_f_mask_name = I_f_mask_name,       # 'wholeLeg_segmented_72.labels.nii' 'DataMergeR4_wholeLeg_segmented.labels'\n",
    "            I_m_rigidityCoeffIm_name = I_m_rigidityCoeffIm_name,\n",
    "            reg_type='RIGID',      # 'RIGID' - 'NON_RIGID' - 'PRE_ALLIGNED_NON_RIGID'\n",
    "            n_itr_rigid= 1,                         # for all resolutions\n",
    "            n_itr_nonRigid= 1,                      # 250 -> 2000 (good: 500) -  for all resolutions\n",
    "            n_res= 1,                               # default: 4     (used for all registrations)\n",
    "            I_deformed_name = 'deformed_im - rigid - without landmarks.nii'              #'deformed_im - rigCoefIm preAligned - itr = 2000.nii'\n",
    "            )\n",
    "\n",
    "## Transformix ###\n",
    "# im_to_deform = sitk.ReadImage('rigidity_coeff_im_70.nii')\n",
    "# # trnsfrmx_pMap = elstx_transform_pMap[0]\n",
    "# trnsfrmx_pMap = sitk.ReadParameterFile('TransformParameters.0.txt')\n",
    "# trnsfrmx_pMap['FinalBSplineInterpolationOrder'] = [\n",
    "#     '0']  # A MUST when deforming a \"binary\" image (i.e. segmentation) (see doc)\n",
    "# trnsfrmx_pMap['DefaultPixelValue'] = [\n",
    "#     '0']  # sets pixel values outside the moving image grid (at interpolation) -> set it to <= the min in your dataset (i.e. bgd)\n",
    "# trnsfrmx_deformed_Im = callTransformix.callTransformix(im_to_deform, trnsfrmx_pMap)\n",
    "# sitk.WriteImage(trnsfrmx_deformed_Im, 'trnsfrmx_deformed_Im.nii')\n",
    "\n",
    "\n",
    "### DSC\n",
    "# LabelOverlapMeasuresImageFilter = sitk.LabelOverlapMeasuresImageFilter()\n",
    "\n",
    "\n",
    "# ############# Im view (sitk -> calls ImageJ)  #############\n",
    "#\n",
    "# # Object oriented interface:\n",
    "# image_viewer = sitk.ImageViewer()       # should be able to find ImageJ\n",
    "# image_viewer.SetTitle('I_f')\n",
    "# image_viewer.Execute(I_f)\n",
    "# # image_viewer.SetTitle('I_m')\n",
    "# # image_viewer.Execute(I_m)\n",
    "# image_viewer.SetTitle('result im')\n",
    "# image_viewer.Execute(resultImage)\n",
    "# # image_viewer.SetTitle('deformation field')        # ImageJ can't view a 3d vector field\n",
    "# # image_viewer.Execute(deformation_fld)"
   ],
   "metadata": {
    "collapsed": false,
    "pycharm": {
     "name": "#%%\n"
    }
   }
  }
 ],
 "metadata": {
  "language_info": {
   "codemirror_mode": {
    "name": "ipython",
    "version": 2
   },
   "file_extension": ".py",
   "mimetype": "text/x-python",
   "name": "python",
   "nbconvert_exporter": "python",
   "pygments_lexer": "ipython2",
   "version": "2.7.6"
  },
  "kernelspec": {
   "name": "python3",
   "language": "python",
   "display_name": "Python 3"
  },
  "pycharm": {
   "stem_cell": {
    "cell_type": "raw",
    "source": [],
    "metadata": {
     "collapsed": false
    }
   }
  }
 },
 "nbformat": 4,
 "nbformat_minor": 0
}